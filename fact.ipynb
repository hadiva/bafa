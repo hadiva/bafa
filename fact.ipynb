{
  "nbformat": 4,
  "nbformat_minor": 0,
  "metadata": {
    "colab": {
      "name": "Untitled9.ipynb",
      "provenance": [],
      "authorship_tag": "ABX9TyNXwqbot7oywkOKSBWIJaBr",
      "include_colab_link": true
    },
    "kernelspec": {
      "name": "python3",
      "display_name": "Python 3"
    },
    "language_info": {
      "name": "python"
    }
  },
  "cells": [
    {
      "cell_type": "markdown",
      "metadata": {
        "id": "view-in-github",
        "colab_type": "text"
      },
      "source": [
        "<a href=\"https://colab.research.google.com/github/hadiva/bafa/blob/main/fact.ipynb\" target=\"_parent\"><img src=\"https://colab.research.google.com/assets/colab-badge.svg\" alt=\"Open In Colab\"/></a>"
      ]
    },
    {
      "cell_type": "code",
      "execution_count": 8,
      "metadata": {
        "colab": {
          "base_uri": "https://localhost:8080/"
        },
        "id": "iQ140EOvNCBh",
        "outputId": "201ad2f0-a22e-4981-92dd-c67c3718aaa2"
      },
      "outputs": [
        {
          "output_type": "stream",
          "name": "stdout",
          "text": [
            "n =4\n",
            "n! = 24\n"
          ]
        }
      ],
      "source": [
        "n = int(input('n ='))\n",
        "fact = 1\n",
        "for i in range(1, n+1):\n",
        "    fact *= i\n",
        "print('n! =', fact)"
      ]
    },
    {
      "cell_type": "code",
      "source": [
        ""
      ],
      "metadata": {
        "id": "Mnm8_YzeOl1C"
      },
      "execution_count": null,
      "outputs": []
    }
  ]
}