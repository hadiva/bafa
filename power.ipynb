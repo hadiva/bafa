{
  "nbformat": 4,
  "nbformat_minor": 0,
  "metadata": {
    "colab": {
      "name": "power.ipynb",
      "provenance": [],
      "collapsed_sections": [],
      "authorship_tag": "ABX9TyO1Ev0kEyQixngiSXeeRaY+",
      "include_colab_link": true
    },
    "kernelspec": {
      "name": "python3",
      "display_name": "Python 3"
    },
    "language_info": {
      "name": "python"
    }
  },
  "cells": [
    {
      "cell_type": "markdown",
      "metadata": {
        "id": "view-in-github",
        "colab_type": "text"
      },
      "source": [
        "<a href=\"https://colab.research.google.com/github/hadiva/bafa/blob/Practice/power.ipynb\" target=\"_parent\"><img src=\"https://colab.research.google.com/assets/colab-badge.svg\" alt=\"Open In Colab\"/></a>"
      ]
    },
    {
      "cell_type": "code",
      "source": [
        "a = int(input())\n",
        "i = 0\n",
        "while 2** i <= a:\n",
        "    i += 1\n",
        "print(2**i)  "
      ],
      "metadata": {
        "colab": {
          "base_uri": "https://localhost:8080/"
        },
        "id": "Mnm8_YzeOl1C",
        "outputId": "4e8b8407-8963-43a9-a3a1-24fe7d8e6eb5"
      },
      "execution_count": 14,
      "outputs": [
        {
          "output_type": "stream",
          "name": "stdout",
          "text": [
            "1010\n",
            "1024\n"
          ]
        }
      ]
    },
    {
      "cell_type": "code",
      "source": [
        "a = int(input())\n",
        "i = 0\n",
        "while True:\n",
        "    if 2 ** i > a:\n",
        "        break\n",
        "    i += 1\n",
        "print(2 ** i)"
      ],
      "metadata": {
        "colab": {
          "base_uri": "https://localhost:8080/"
        },
        "id": "Qjm2hD--ePQL",
        "outputId": "c024448e-fd0e-4a4f-c178-e941740f9698"
      },
      "execution_count": 16,
      "outputs": [
        {
          "output_type": "stream",
          "name": "stdout",
          "text": [
            "95\n",
            "128\n"
          ]
        }
      ]
    },
    {
      "cell_type": "code",
      "source": [
        " n = int(input('n = '))\n",
        " s = 0\n",
        " while n > 0: \n",
        "      t = n % 10\n",
        "      s += t\n",
        "      n //= 10\n",
        "print('s n =', s)"
      ],
      "metadata": {
        "colab": {
          "base_uri": "https://localhost:8080/"
        },
        "id": "nbmpLkfnh1gh",
        "outputId": "6eb8184c-9cad-4573-a9e5-ee5fd16e4a6a"
      },
      "execution_count": 18,
      "outputs": [
        {
          "output_type": "stream",
          "name": "stdout",
          "text": [
            "n = 123456789\n",
            "s n = 45\n"
          ]
        }
      ]
    },
    {
      "cell_type": "code",
      "source": [
        ""
      ],
      "metadata": {
        "id": "OecSbVRvkmT9"
      },
      "execution_count": null,
      "outputs": []
    }
  ]
}