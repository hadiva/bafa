{
  "nbformat": 4,
  "nbformat_minor": 0,
  "metadata": {
    "colab": {
      "name": "print sq.ipynb",
      "provenance": [],
      "collapsed_sections": [],
      "authorship_tag": "ABX9TyMJtfnfOrfg+cIP7//EG9h9",
      "include_colab_link": true
    },
    "kernelspec": {
      "name": "python3",
      "display_name": "Python 3"
    },
    "language_info": {
      "name": "python"
    }
  },
  "cells": [
    {
      "cell_type": "markdown",
      "metadata": {
        "id": "view-in-github",
        "colab_type": "text"
      },
      "source": [
        "<a href=\"https://colab.research.google.com/github/hadiva/bafa/blob/Practice/print_sq.ipynb\" target=\"_parent\"><img src=\"https://colab.research.google.com/assets/colab-badge.svg\" alt=\"Open In Colab\"/></a>"
      ]
    },
    {
      "cell_type": "code",
      "source": [
        "n = int(input())\n",
        "if n == 1:\n",
        "    print('*')\n",
        "else:\n",
        "    for i in range(n):\n",
        "        print('*', end = '')\n",
        "    print()\n",
        "    for i in range(n - 2):\n",
        "         print('*', end = '')\n",
        "         for j in range(n - 2):\n",
        "             print(' ', end = '')\n",
        "         print('*')\n",
        "    for i in range(n):\n",
        "        print('*',end = '')\n",
        "    print()"
      ],
      "metadata": {
        "colab": {
          "base_uri": "https://localhost:8080/"
        },
        "id": "Mnm8_YzeOl1C",
        "outputId": "d0861b4a-56d0-4ae1-e4a5-6984b37bf97b"
      },
      "execution_count": 13,
      "outputs": [
        {
          "output_type": "stream",
          "name": "stdout",
          "text": [
            "10\n",
            "**********\n",
            "*        *\n",
            "*        *\n",
            "*        *\n",
            "*        *\n",
            "*        *\n",
            "*        *\n",
            "*        *\n",
            "*        *\n",
            "**********\n"
          ]
        }
      ]
    },
    {
      "cell_type": "code",
      "source": [
        "  "
      ],
      "metadata": {
        "id": "Qjm2hD--ePQL"
      },
      "execution_count": null,
      "outputs": []
    },
    {
      "cell_type": "code",
      "source": [
        ""
      ],
      "metadata": {
        "id": "SQcnW5HTpdDR"
      },
      "execution_count": null,
      "outputs": []
    }
  ]
}