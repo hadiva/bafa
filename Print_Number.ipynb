{
  "nbformat": 4,
  "nbformat_minor": 0,
  "metadata": {
    "colab": {
      "name": "Print Number.ipynb",
      "provenance": [],
      "collapsed_sections": [],
      "authorship_tag": "ABX9TyPbYsEjZKmB8KlpjP7q2r/O",
      "include_colab_link": true
    },
    "kernelspec": {
      "name": "python3",
      "display_name": "Python 3"
    },
    "language_info": {
      "name": "python"
    }
  },
  "cells": [
    {
      "cell_type": "markdown",
      "metadata": {
        "id": "view-in-github",
        "colab_type": "text"
      },
      "source": [
        "<a href=\"https://colab.research.google.com/github/hadiva/bafa/blob/Practice/Print_Number.ipynb\" target=\"_parent\"><img src=\"https://colab.research.google.com/assets/colab-badge.svg\" alt=\"Open In Colab\"/></a>"
      ]
    },
    {
      "cell_type": "code",
      "source": [
        "s = input()\n",
        "for i in s: \n",
        "    print(i, ':',sep = '', end = '')\n",
        "    for j in range(int(i)):\n",
        "        print(i, end = '')\n",
        "    print()\n"
      ],
      "metadata": {
        "colab": {
          "base_uri": "https://localhost:8080/"
        },
        "id": "Mnm8_YzeOl1C",
        "outputId": "ad77d0c9-fa03-49ba-e911-cde8634ae180"
      },
      "execution_count": 20,
      "outputs": [
        {
          "output_type": "stream",
          "name": "stdout",
          "text": [
            "50943\n",
            "5:55555\n",
            "0:\n",
            "9:999999999\n",
            "4:4444\n",
            "3:333\n"
          ]
        }
      ]
    },
    {
      "cell_type": "code",
      "source": [
        "743"
      ],
      "metadata": {
        "id": "Qjm2hD--ePQL"
      },
      "execution_count": null,
      "outputs": []
    }
  ]
}